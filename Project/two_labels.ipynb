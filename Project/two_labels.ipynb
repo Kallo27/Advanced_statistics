{
 "cells": [
  {
   "cell_type": "code",
   "execution_count": 80,
   "metadata": {
    "vscode": {
     "languageId": "r"
    }
   },
   "outputs": [],
   "source": [
    "source(\"./aux.R\")"
   ]
  },
  {
   "cell_type": "code",
   "execution_count": 81,
   "metadata": {
    "vscode": {
     "languageId": "r"
    }
   },
   "outputs": [],
   "source": [
    "dataset <- read.csv(\"two_label_dataset.csv\", col.names = c(\"ID\", \"Title\", \"Author\", \"Text\", \"Label\"))\n",
    "classes <- as.integer(sort(unique(dataset$Label)))"
   ]
  },
  {
   "cell_type": "code",
   "execution_count": 82,
   "metadata": {
    "vscode": {
     "languageId": "r"
    }
   },
   "outputs": [],
   "source": [
    "dataset$Text <- clean(dataset$Text)\n",
    "dataset <- clean_empty_rows(dataset)"
   ]
  },
  {
   "cell_type": "code",
   "execution_count": 83,
   "metadata": {
    "vscode": {
     "languageId": "r"
    }
   },
   "outputs": [],
   "source": [
    "eighty_percent <- as.integer(length(dataset$Text) * 0.8)\n",
    "\n",
    "training_set <- dataset[1:eighty_percent, ]\n",
    "test_set <- dataset[(eighty_percent + 1):length(dataset$Text), ]"
   ]
  },
  {
   "cell_type": "code",
   "execution_count": 85,
   "metadata": {
    "vscode": {
     "languageId": "r"
    }
   },
   "outputs": [
    {
     "name": "stdout",
     "output_type": "stream",
     "text": [
      "[1] 23357\n",
      "[1] 4.281372e-05\n",
      "[1] 0.0002176096\n",
      "[1] 23357\n",
      "[1] 4.281372e-05\n",
      "[1] 0.0002176096\n",
      "[1] 23357\n",
      "[1] 4.281372e-05\n",
      "[1] 0.0002176096\n",
      "[1] 23357\n",
      "[1] 4.281372e-05\n",
      "[1] 0.0002176096\n",
      "[1] 23317\n",
      "[1] 4.288716e-05\n",
      "[1] 0.0002175217\n",
      "[1] 23317\n",
      "[1] 4.288716e-05\n",
      "[1] 0.0002175217\n",
      "[1] 23317\n",
      "[1] 4.288716e-05\n",
      "[1] 0.0002175217\n",
      "[1] 23317\n",
      "[1] 4.288716e-05\n",
      "[1] 0.0002175217\n",
      "[1] 23255\n",
      "[1] 4.300151e-05\n",
      "[1] 0.0002183356\n",
      "[1] 23255\n",
      "[1] 4.300151e-05\n",
      "[1] 0.0002183356\n",
      "[1] 23255\n",
      "[1] 4.300151e-05\n",
      "[1] 0.0002183356\n",
      "[1] 23255\n",
      "[1] 4.300151e-05\n",
      "[1] 0.0002183356\n",
      "[1] 23233\n",
      "[1] 4.304222e-05\n",
      "[1] 0.0002180041\n",
      "[1] 23233\n",
      "[1] 4.304222e-05\n",
      "[1] 0.0002180041\n",
      "[1] 23233\n",
      "[1] 4.304222e-05\n",
      "[1] 0.0002180041\n",
      "[1] 23233\n",
      "[1] 4.304222e-05\n",
      "[1] 0.0002180041\n",
      "[1] 23252\n",
      "[1] 4.300705e-05\n",
      "[1] 0.0002181425\n",
      "[1] 23252\n",
      "[1] 4.300705e-05\n",
      "[1] 0.0002181425\n",
      "[1] 23252\n",
      "[1] 4.300705e-05\n",
      "[1] 0.0002181425\n",
      "[1] 23252\n",
      "[1] 4.300705e-05\n",
      "[1] 0.0002181425\n",
      "  occ_threshold mean_accuracy\n",
      "1       1.0e-05     0.8615618\n",
      "2       1.6e-05     0.8586448\n",
      "3       2.0e-05     0.8576724\n",
      "4       5.0e-05     0.8497113\n"
     ]
    }
   ],
   "source": [
    "crossval_results <- kfold_cross_validation_two_labels(training_set, k = 5, occ_thresholds = c(0.0000001,0.0000005,0.000001,0.000005,0.00001, 0.000016, 0.00002, 0.00005, 0.0001, 0.0005))\n",
    "crossval_results"
   ]
  },
  {
   "cell_type": "code",
   "execution_count": 88,
   "metadata": {
    "vscode": {
     "languageId": "r"
    }
   },
   "outputs": [
    {
     "name": "stdout",
     "output_type": "stream",
     "text": [
      "[1] 24163\n",
      "[1] 4.138559e-05\n",
      "[1] 0.000214054\n"
     ]
    }
   ],
   "source": [
    "model <- train_multinomial_nb_new_two_label(classes, training_set, threshold = 0.00001)"
   ]
  },
  {
   "cell_type": "code",
   "execution_count": 89,
   "metadata": {
    "vscode": {
     "languageId": "r"
    }
   },
   "outputs": [],
   "source": [
    "pred_labels <- sapply(test_set$Text, function(doc) {\n",
    "  apply_multinomial_nb(classes, model$vocab, model$prior, model$condprob, doc)\n",
    "})"
   ]
  },
  {
   "cell_type": "code",
   "execution_count": 92,
   "metadata": {
    "vscode": {
     "languageId": "r"
    }
   },
   "outputs": [
    {
     "name": "stdout",
     "output_type": "stream",
     "text": [
      "Accuracy: 0.8668287"
     ]
    }
   ],
   "source": [
    "correct_predictions <- sum(test_set$Label == pred_labels)\n",
    "total_predictions <- length(test_set$Label)\n",
    "accuracy <- correct_predictions / total_predictions\n",
    "confusion_matrix <- table(True = test_set$Label, Predicted = pred_labels)\n",
    "\n",
    "\n",
    "cat(\"Accuracy:\", accuracy, \"\\n\")\n",
    "cat(\"Confusion Matrix:\\n\")\n",
    "print(confusion_matrix)"
   ]
  }
 ],
 "metadata": {
  "kernelspec": {
   "display_name": "R",
   "language": "R",
   "name": "ir"
  },
  "language_info": {
   "codemirror_mode": "r",
   "file_extension": ".r",
   "mimetype": "text/x-r-source",
   "name": "R",
   "pygments_lexer": "r",
   "version": "4.2.0"
  }
 },
 "nbformat": 4,
 "nbformat_minor": 2
}
