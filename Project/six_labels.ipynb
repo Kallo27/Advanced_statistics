{
 "cells": [
  {
   "cell_type": "code",
   "execution_count": 1,
   "metadata": {
    "vscode": {
     "languageId": "r"
    }
   },
   "outputs": [
    {
     "name": "stderr",
     "output_type": "stream",
     "text": [
      "Loading required package: NLP\n",
      "\n",
      "Loading required package: koRpus.lang.en\n",
      "\n",
      "Loading required package: koRpus\n",
      "\n",
      "Loading required package: sylly\n",
      "\n",
      "For information on available language packages for 'koRpus', run\n",
      "\n",
      "  available.koRpus.lang()\n",
      "\n",
      "and see ?install.koRpus.lang()\n",
      "\n",
      "\n",
      "\n",
      "Attaching package: ‘koRpus’\n",
      "\n",
      "\n",
      "The following object is masked from ‘package:tm’:\n",
      "\n",
      "    readTagged\n",
      "\n",
      "\n",
      "\n",
      "Attaching package: ‘dplyr’\n",
      "\n",
      "\n",
      "The following objects are masked from ‘package:stats’:\n",
      "\n",
      "    filter, lag\n",
      "\n",
      "\n",
      "The following objects are masked from ‘package:base’:\n",
      "\n",
      "    intersect, setdiff, setequal, union\n",
      "\n",
      "\n"
     ]
    }
   ],
   "source": [
    "source(\"./aux.R\")"
   ]
  },
  {
   "cell_type": "code",
   "execution_count": 2,
   "metadata": {
    "vscode": {
     "languageId": "r"
    }
   },
   "outputs": [],
   "source": [
    "dataset <- read.csv(\"six_label_dataset.csv\", col.names = c(\"Label\", \"Text\", \"Tag\"))\n",
    "dataset$Label <- change_labels(dataset$Label)\n",
    "classes <- as.integer(sort(unique(dataset$Label)))\n",
    "args <- sort(unique(unlist(strsplit(dataset$Tag, \",\"))))"
   ]
  },
  {
   "cell_type": "code",
   "execution_count": 3,
   "metadata": {
    "vscode": {
     "languageId": "r"
    }
   },
   "outputs": [
    {
     "data": {
      "text/html": [
       "21678"
      ],
      "text/latex": [
       "21678"
      ],
      "text/markdown": [
       "21678"
      ],
      "text/plain": [
       "[1] 21678"
      ]
     },
     "metadata": {},
     "output_type": "display_data"
    }
   ],
   "source": [
    "occ_threshold <- 1\n",
    "vocabulary <- get_vocabulary(dataset$Text, occ_threshold)\n",
    "length(vocabulary)"
   ]
  },
  {
   "cell_type": "code",
   "execution_count": 4,
   "metadata": {
    "vscode": {
     "languageId": "r"
    }
   },
   "outputs": [],
   "source": [
    "dataset$Text <- clean(dataset$Text)\n",
    "dataset <- clean_empty_rows(dataset)"
   ]
  },
  {
   "cell_type": "code",
   "execution_count": 5,
   "metadata": {
    "vscode": {
     "languageId": "r"
    }
   },
   "outputs": [
    {
     "data": {
      "text/html": [
       "5142"
      ],
      "text/latex": [
       "5142"
      ],
      "text/markdown": [
       "5142"
      ],
      "text/plain": [
       "[1] 5142"
      ]
     },
     "metadata": {},
     "output_type": "display_data"
    }
   ],
   "source": [
    "occ_threshold <- 1\n",
    "vocabulary <- get_vocabulary(dataset$Text, occ_threshold)\n",
    "length(vocabulary)"
   ]
  },
  {
   "cell_type": "code",
   "execution_count": 6,
   "metadata": {
    "vscode": {
     "languageId": "r"
    }
   },
   "outputs": [],
   "source": [
    "seventy_percent <- floor(length(dataset$Text) * 0.7)\n",
    "eightyfive_percent <- floor(length(dataset$Text) * 0.85)\n",
    "n <- nrow(dataset)\n",
    "\n",
    "training_set <- dataset[1:seventy_percent, ]\n",
    "validation_set <- dataset[(seventy_percent + 1):eightyfive_percent, ]\n",
    "testing_set <- dataset[(eightyfive_percent + 1):n, ]"
   ]
  },
  {
   "cell_type": "code",
   "execution_count": 7,
   "metadata": {
    "vscode": {
     "languageId": "r"
    }
   },
   "outputs": [],
   "source": [
    "occ_threshold <- 1\n",
    "model <- train_multinomial_nb(classes, training_set, occ_threshold)"
   ]
  },
  {
   "cell_type": "code",
   "execution_count": 8,
   "metadata": {
    "vscode": {
     "languageId": "r"
    }
   },
   "outputs": [],
   "source": [
    "docs <- validation_set$Text\n",
    "\n",
    "pred_labels <- sapply(docs, function(doc) {\n",
    "  apply_multinomial_nb(classes, model$vocab, model$prior, model$condprob, doc)\n",
    "})"
   ]
  },
  {
   "cell_type": "code",
   "execution_count": 9,
   "metadata": {
    "vscode": {
     "languageId": "r"
    }
   },
   "outputs": [
    {
     "name": "stdout",
     "output_type": "stream",
     "text": [
      "Accuracy: 0.2259115"
     ]
    }
   ],
   "source": [
    "correct_predictions <- sum(validation_set$Label == pred_labels)\n",
    "total_predictions <- length(validation_set$Label)\n",
    "accuracy <- correct_predictions / total_predictions\n",
    "\n",
    "cat(\"Accuracy:\", accuracy)"
   ]
  },
  {
   "cell_type": "code",
   "execution_count": 10,
   "metadata": {
    "vscode": {
     "languageId": "r"
    }
   },
   "outputs": [],
   "source": [
    "eigthy_percent <- floor(length(dataset$Text) * 0.8)\n",
    "n <- nrow(dataset)\n",
    "\n",
    "dataset <- dataset[sample(n), ]\n",
    "\n",
    "training_set <- dataset[1:eigthy_percent, ]\n",
    "testing_set <- dataset[(eigthy_percent + 1):n, ]"
   ]
  },
  {
   "cell_type": "code",
   "execution_count": 11,
   "metadata": {
    "vscode": {
     "languageId": "r"
    }
   },
   "outputs": [
    {
     "name": "stdout",
     "output_type": "stream",
     "text": [
      "   occ_threshold mean_accuracy\n",
      "1              1     0.2254123\n",
      "2              2     0.2276115\n",
      "3              3     0.2257789\n",
      "4              4     0.2272450\n",
      "5              5     0.2252902\n",
      "6              6     0.2238241\n",
      "7              7     0.2233354\n",
      "8              8     0.2224801\n",
      "9              9     0.2208919\n",
      "10            10     0.2193036\n",
      "11            11     0.2188149\n",
      "12            12     0.2196701\n",
      "13            13     0.2186927\n",
      "14            14     0.2189371\n",
      "15            15     0.2208919\n",
      "16            16     0.2210141\n",
      "17            17     0.2211362\n",
      "18            18     0.2201588\n",
      "19            19     0.2226023\n",
      "20            20     0.2221136\n"
     ]
    }
   ],
   "source": [
    "crossval_results <- kfold_cross_validation(training_set, k = 5, occ_thresholds = 1:20)\n",
    "print(crossval_results)"
   ]
  },
  {
   "cell_type": "code",
   "execution_count": 12,
   "metadata": {
    "vscode": {
     "languageId": "r"
    }
   },
   "outputs": [],
   "source": [
    "best_threshold <- crossval_results$occ_threshold[which.max(crossval_results$mean_accuracy)]\n",
    "model <- train_multinomial_nb(classes, training_set, best_threshold)"
   ]
  },
  {
   "cell_type": "code",
   "execution_count": 13,
   "metadata": {
    "vscode": {
     "languageId": "r"
    }
   },
   "outputs": [],
   "source": [
    "pred_labels <- sapply(testing_set$Text, function(doc) {\n",
    "  apply_multinomial_nb(classes, model$vocab, model$prior, model$condprob, doc)\n",
    "})"
   ]
  },
  {
   "cell_type": "code",
   "execution_count": 14,
   "metadata": {
    "vscode": {
     "languageId": "r"
    }
   },
   "outputs": [
    {
     "name": "stdout",
     "output_type": "stream",
     "text": [
      "Accuracy: 0.2226562"
     ]
    }
   ],
   "source": [
    "correct_predictions <- sum(testing_set$Label == pred_labels)\n",
    "total_predictions <- length(testing_set$Label)\n",
    "accuracy <- correct_predictions / total_predictions\n",
    "\n",
    "cat(\"Accuracy:\", accuracy)"
   ]
  },
  {
   "cell_type": "code",
   "execution_count": 15,
   "metadata": {
    "vscode": {
     "languageId": "r"
    }
   },
   "outputs": [
    {
     "name": "stdout",
     "output_type": "stream",
     "text": [
      "Confusion Matrix:\n",
      "    Predicted\n",
      "True   0   1   2   3   4   5\n",
      "   0  15  48  25  46  23  16\n",
      "   1  28 106  62 100  62  41\n",
      "   2  12  79  61  87  61  37\n",
      "   3  19  61  59 124 112  44\n",
      "   4   8  60  43 105 100  62\n",
      "   5  13  56  34  74 115  50\n"
     ]
    }
   ],
   "source": [
    "confusion_matrix <- table(True = testing_set$Label, Predicted = pred_labels)\n",
    "cat(\"Confusion Matrix:\\n\")\n",
    "print(confusion_matrix)"
   ]
  },
  {
   "cell_type": "code",
   "execution_count": 16,
   "metadata": {
    "vscode": {
     "languageId": "r"
    }
   },
   "outputs": [
    {
     "name": "stdout",
     "output_type": "stream",
     "text": [
      "   occ_threshold mean_accuracy\n",
      "1              1     0.2145388\n",
      "2              2     0.2145388\n",
      "3              3     0.2142944\n",
      "4              4     0.2193036\n",
      "5              5     0.2205254\n",
      "6              6     0.2196701\n",
      "7              7     0.2189371\n",
      "8              8     0.2205254\n",
      "9              9     0.2240684\n",
      "10            10     0.2213806\n",
      "11            11     0.2169823\n",
      "12            12     0.2185706\n",
      "13            13     0.2180819\n",
      "14            14     0.2183262\n",
      "15            15     0.2174710\n",
      "16            16     0.2175932\n",
      "17            17     0.2200367\n",
      "18            18     0.2182040\n",
      "19            19     0.2174710\n",
      "20            20     0.2164936\n"
     ]
    }
   ],
   "source": [
    "crossval_results <- kfold_cross_validation_tags(training_set, k = 5, occ_thresholds = 1:20)\n",
    "print(crossval_results)"
   ]
  },
  {
   "cell_type": "code",
   "execution_count": 17,
   "metadata": {
    "vscode": {
     "languageId": "r"
    }
   },
   "outputs": [],
   "source": [
    "best_threshold <- crossval_results$occ_threshold[which.max(crossval_results$mean_accuracy)]\n",
    "model <- train_multinomial_nb(classes, training_set, best_threshold)"
   ]
  },
  {
   "cell_type": "code",
   "execution_count": 18,
   "metadata": {
    "vscode": {
     "languageId": "r"
    }
   },
   "outputs": [],
   "source": [
    "pred_labels <- sapply(testing_set$Text, function(doc) {\n",
    "  apply_multinomial_nb(classes, model$vocab, model$prior, model$condprob, doc)\n",
    "})"
   ]
  },
  {
   "cell_type": "code",
   "execution_count": 19,
   "metadata": {
    "vscode": {
     "languageId": "r"
    }
   },
   "outputs": [
    {
     "name": "stdout",
     "output_type": "stream",
     "text": [
      "Accuracy: 0.2211914"
     ]
    }
   ],
   "source": [
    "correct_predictions <- sum(testing_set$Label == pred_labels)\n",
    "total_predictions <- length(testing_set$Label)\n",
    "accuracy <- correct_predictions / total_predictions\n",
    "\n",
    "cat(\"Accuracy:\", accuracy)"
   ]
  },
  {
   "cell_type": "code",
   "execution_count": 20,
   "metadata": {
    "vscode": {
     "languageId": "r"
    }
   },
   "outputs": [
    {
     "name": "stdout",
     "output_type": "stream",
     "text": [
      "Confusion Matrix:\n",
      "    Predicted\n",
      "True   0   1   2   3   4   5\n",
      "   0  23  47  25  41  23  14\n",
      "   1  28 110  61  90  64  46\n",
      "   2  21  91  63  78  46  38\n",
      "   3  20  75  57 110 110  47\n",
      "   4  19  64  41 102  87  65\n",
      "   5  16  66  31  63 106  60\n"
     ]
    }
   ],
   "source": [
    "confusion_matrix <- table(True = testing_set$Label, Predicted = pred_labels)\n",
    "cat(\"Confusion Matrix:\\n\")\n",
    "print(confusion_matrix)"
   ]
  }
 ],
 "metadata": {
  "kernelspec": {
   "display_name": "R",
   "language": "R",
   "name": "ir"
  },
  "language_info": {
   "codemirror_mode": "r",
   "file_extension": ".r",
   "mimetype": "text/x-r-source",
   "name": "R",
   "pygments_lexer": "r",
   "version": "4.3.1"
  }
 },
 "nbformat": 4,
 "nbformat_minor": 2
}
