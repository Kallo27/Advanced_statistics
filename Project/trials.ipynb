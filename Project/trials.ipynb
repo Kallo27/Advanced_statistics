{
 "cells": [
  {
   "cell_type": "code",
   "execution_count": 1,
   "metadata": {
    "vscode": {
     "languageId": "r"
    }
   },
   "outputs": [
    {
     "name": "stderr",
     "output_type": "stream",
     "text": [
      "Loading required package: NLP\n",
      "\n"
     ]
    }
   ],
   "source": [
    "library(tm)\n",
    "library(hunspell)\n",
    "library(dplyr)"
   ]
  },
  {
   "cell_type": "code",
   "execution_count": 32,
   "metadata": {
    "vscode": {
     "languageId": "r"
    }
   },
   "outputs": [],
   "source": [
    "unified_spell_check <- function(text) {\n",
    "  tokens <- unlist(strsplit(text, \"\\\\s+\"))\n",
    "  is_english <- hunspell::hunspell_check(tokens)\n",
    "  \n",
    "  corrected_tokens <- sapply(seq_along(tokens), function(i) {\n",
    "    if (is_english[i]) {\n",
    "      return(tokens[i])\n",
    "    } else {\n",
    "      suggestions <- hunspell::hunspell_suggest(tokens[i])[[1]]\n",
    "      if (length(suggestions) > 0) {\n",
    "        # Count occurrences of each suggestion\n",
    "        suggestion_counts <- table(suggestions)\n",
    "        # Find the suggestion with the maximum count\n",
    "        most_common_suggestion <- names(which.max(suggestion_counts))\n",
    "        return(most_common_suggestion)\n",
    "      } else {\n",
    "        return(tokens[i])\n",
    "      }\n",
    "    }\n",
    "  })\n",
    "  \n",
    "  cleaned_text <- paste(corrected_tokens, collapse = \" \")\n",
    "  return(cleaned_text)\n",
    "}"
   ]
  },
  {
   "cell_type": "code",
   "execution_count": 33,
   "metadata": {
    "vscode": {
     "languageId": "r"
    }
   },
   "outputs": [],
   "source": [
    "filter_non_english_words <- function(text) {\n",
    "  tokens <- unlist(strsplit(text, \"\\\\s+\"))\n",
    "  is_english <- hunspell::hunspell_check(tokens)\n",
    "  english_tokens <- tokens[is_english]\n",
    "  cleaned_text <- paste(english_tokens, collapse = \" \")\n",
    "  return(cleaned_text)\n",
    "}"
   ]
  },
  {
   "cell_type": "code",
   "execution_count": 40,
   "metadata": {
    "vscode": {
     "languageId": "r"
    }
   },
   "outputs": [],
   "source": [
    "text <- \"hello123 world42 this3is a7test, 9, 6' 7 well' ciao prova come va wiskey whiskey سلام speling wrng\"\n",
    "corpus <- VCorpus(VectorSource(text))"
   ]
  },
  {
   "cell_type": "code",
   "execution_count": 41,
   "metadata": {
    "vscode": {
     "languageId": "r"
    }
   },
   "outputs": [],
   "source": [
    "#cleaned_corpus <- tm::tm_map(corpus, tm::content_transformer(remove_numbers_inside_words))\n",
    "cleaned_corpus <- tm::tm_map(cleaned_corpus, tm::removePunctuation)\n",
    "cleaned_corpus <- tm::tm_map(cleaned_corpus, tm::stripWhitespace)\n",
    "#cleaned_corpus <- tm::tm_map(cleaned_corpus, tm::content_transformer(unified_spell_check))\n",
    "cleaned_corpus <- tm::tm_map(cleaned_corpus, tm::content_transformer(filter_non_english_words))\n",
    "cleaned_corpus <- tm::tm_map(cleaned_corpus, tm::stripWhitespace)"
   ]
  },
  {
   "cell_type": "code",
   "execution_count": 42,
   "metadata": {
    "vscode": {
     "languageId": "r"
    }
   },
   "outputs": [
    {
     "name": "stdout",
     "output_type": "stream",
     "text": [
      "                                                  1 \n",
      "\"hello world this is a test well ciao come whiskey\" \n"
     ]
    }
   ],
   "source": [
    "print(sapply(cleaned_corpus, content))"
   ]
  },
  {
   "cell_type": "code",
   "execution_count": 51,
   "metadata": {
    "vscode": {
     "languageId": "r"
    }
   },
   "outputs": [],
   "source": [
    "text <- \"7\"\n",
    "corpus <- VCorpus(VectorSource(text))"
   ]
  },
  {
   "cell_type": "code",
   "execution_count": 52,
   "metadata": {
    "vscode": {
     "languageId": "r"
    }
   },
   "outputs": [],
   "source": [
    "cleaned_corpus <- tm::tm_map(corpus, tm::content_transformer(remove_numbers_inside_words))\n",
    "cleaned_corpus <- tm::tm_map(cleaned_corpus, tm::removePunctuation)\n",
    "cleaned_corpus <- tm::tm_map(cleaned_corpus, tm::stripWhitespace)\n",
    "#cleaned_corpus <- tm::tm_map(cleaned_corpus, tm::content_transformer(unified_spell_check))\n",
    "cleaned_corpus <- tm::tm_map(cleaned_corpus, tm::content_transformer(filter_non_english_words))\n",
    "#cleaned_corpus <- tm::tm_map(cleaned_corpus, tm::stripWhitespace)"
   ]
  },
  {
   "cell_type": "code",
   "execution_count": 53,
   "metadata": {
    "vscode": {
     "languageId": "r"
    }
   },
   "outputs": [
    {
     "name": "stdout",
     "output_type": "stream",
     "text": [
      " 1 \n",
      "\"\" \n"
     ]
    }
   ],
   "source": [
    "print(sapply(cleaned_corpus, content))"
   ]
  },
  {
   "cell_type": "code",
   "execution_count": null,
   "metadata": {
    "vscode": {
     "languageId": "r"
    }
   },
   "outputs": [],
   "source": []
  }
 ],
 "metadata": {
  "kernelspec": {
   "display_name": "R",
   "language": "R",
   "name": "ir"
  },
  "language_info": {
   "codemirror_mode": "r",
   "file_extension": ".r",
   "mimetype": "text/x-r-source",
   "name": "R",
   "pygments_lexer": "r",
   "version": "4.3.1"
  }
 },
 "nbformat": 4,
 "nbformat_minor": 2
}
